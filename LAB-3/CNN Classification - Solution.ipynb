{
 "cells": [
  {
   "cell_type": "markdown",
   "metadata": {},
   "source": [
    "# NATIONAL WORKSHOP ON 'DEEP LEARNING AND ACCELERATED COMPUTING' (NWDLAC 2019)\n",
    "# Sep 26 -27, 2019 \n",
    "\n",
    "**Resource Persons : Dr. M.G.Sumithra, NVIDIA Certified DLI-Instructor\n",
    "➢ Mr. V.Chandran, NVIDIA Certified DLI-Instructor\n",
    "➢ Ms. M.Suriya, NVIDIA Certified DLI-Instructor **\n",
    "                \n",
    "\n",
    "**Prinicipal Coordinating Academies : SRM Institute of Science and Technology**\n",
    "** In association With: NVIDIA DEEP Learning Institute"
   ]
  },
  {
   "cell_type": "markdown",
   "metadata": {},
   "source": [
    "# Malaria Parasite Detection\n",
    "** In this tutorial, we provide you a brief introduction to malaria parasite detection using Convolution Neural Networks(CNNs). You will be able to build a CNN model that can be used for classification.**\n"
   ]
  },
  {
   "cell_type": "markdown",
   "metadata": {},
   "source": [
    "Convolution Neural Networks are mainly use for large size input data such as Image data. \n",
    "* Convolution Neural Networks (CNNs) use parameter sharing.\n",
    "* Small pattern detectors called filters are used to convolve over the entire image.\n",
    "* These filters are learned through NN training in the same way as in fully connected networks.\n",
    "* Just like a hidden layer in a fully connected layer, convolution layers are used in CNNs.\n",
    "* To handle large size of image data, pooling layers are introduced.\n",
    "* Normalization layers were used in early CNN architectures, but due to their minimal impact, they are not much used in the present CNNs.\n"
   ]
  },
  {
   "cell_type": "markdown",
   "metadata": {},
   "source": [
    "** Today we are going to see a simple 3 convolution layers convolution neural network. We are going to use PlantVillage leaf \n",
    "dataset. It contains 38 classes dataset. From which we are just going to use 4 classes of Apple. The objective of the work is to Diseases classification in Apple leaves.**\n",
    "\n",
    "Dataset Link : :https://github.com/spMohanty/PlantVillage-Dataset/tree/master/raw/color\n",
    "We split the dataset into training validation and testing sample"
   ]
  },
  {
   "cell_type": "markdown",
   "metadata": {},
   "source": [
    "### A. Data Preprocessing"
   ]
  },
  {
   "cell_type": "markdown",
   "metadata": {},
   "source": [
    "** A1. Import required Libraries **\n",
    "* From keras library we are going to use image preprocessing task, to normalize the image pixel values in between 0 to 1.\n",
    "* Model is imported to load variuos Neural NEtwrok models such as Sequential.\n",
    "* We are going to use Stochastic Gradient Descent(SGD) as a optimizer \n",
    "* Keras layers such as Dense, Flatten, Conv2D and MaxPooling is used to implement the CNN model "
   ]
  },
  {
   "cell_type": "code",
   "execution_count": 1,
   "metadata": {},
   "outputs": [
    {
     "name": "stderr",
     "output_type": "stream",
     "text": [
      "Using TensorFlow backend.\n"
     ]
    }
   ],
   "source": [
    "import numpy as np\n",
    "import keras\n",
    "from keras import models\n",
    "import matplotlib.pyplot as plt\n",
    "from keras.preprocessing import image\n",
    "from keras.preprocessing.image import ImageDataGenerator\n",
    "from keras.models import Model\n",
    "from keras.optimizers import SGD\n",
    "from keras import layers\n",
    "from keras.layers import  Dense, Flatten, Conv2D, MaxPooling2D\n",
    "from keras import Input\n",
    "                                                                                                            \n"
   ]
  },
  {
   "cell_type": "markdown",
   "metadata": {},
   "source": [
    "** A2. Loading the training and testing data and defining the basic parameters **\n",
    "* We are resizing the input image to 64 * 64\n",
    "\n",
    "* In the dataset :\n",
    "    Training Set : 70% \n",
    "    Validation Set : 20%\n",
    "    Test Set : 10%"
   ]
  },
  {
   "cell_type": "code",
   "execution_count": 10,
   "metadata": {},
   "outputs": [
    {
     "name": "stdout",
     "output_type": "stream",
     "text": [
      "Found 29420 images belonging to 2 classes.\n",
      "Found 3528 images belonging to 2 classes.\n",
      "Found 14986 images belonging to 2 classes.\n"
     ]
    }
   ],
   "source": [
    "# Normalize training and validation data in the range of 0 to 1\n",
    "train_datagen = ImageDataGenerator(rescale=1./255)\n",
    "validation_datagen = ImageDataGenerator(rescale=1./255)\n",
    "test_datagen = ImageDataGenerator(rescale=1./255)\n",
    "\n",
    "# Read the training sample and set the batch size \n",
    "train_generator = train_datagen.flow_from_directory(\n",
    "        'cellimage/train/',\n",
    "        target_size=(64, 64),\n",
    "        batch_size=16,\n",
    "        class_mode='categorical')\n",
    "\n",
    "# Read Validation data from directory and define target size with batch size\n",
    "validation_generator = validation_datagen.flow_from_directory(\n",
    "        'cellimage/val/',\n",
    "        target_size=(64, 64),\n",
    "        batch_size=16,\n",
    "        class_mode='categorical',\n",
    "        shuffle=False)\n",
    "\n",
    "test_generator = test_datagen.flow_from_directory(\n",
    "        'cellimage/test/',\n",
    "        target_size=(64, 64),\n",
    "        batch_size=1,\n",
    "        class_mode='categorical',\n",
    "        shuffle=False)\n"
   ]
  },
  {
   "cell_type": "markdown",
   "metadata": {},
   "source": [
    "### B. Model Building\n"
   ]
  },
  {
   "cell_type": "markdown",
   "metadata": {},
   "source": [
    "* We are going to use 2 convolution layers with 3*3 filer and relu as an activation function\n",
    "* Then max pooling layer with 2*2 filter is used\n",
    "* After that we are going to use Flatten layer\n",
    "* Then Dense layer is used with relu function\n",
    "* In the output layer softmax function is used with 4 neurons as we have four class dataset.\n",
    "* model.summary() is used to check the overall architecture of the model with number of learnable parameters in each \n",
    "\n",
    "#### B1. Model Definition"
   ]
  },
  {
   "cell_type": "code",
   "execution_count": 13,
   "metadata": {},
   "outputs": [
    {
     "name": "stdout",
     "output_type": "stream",
     "text": [
      "_________________________________________________________________\n",
      "Layer (type)                 Output Shape              Param #   \n",
      "=================================================================\n",
      "conv2d_4 (Conv2D)            (None, 62, 62, 128)       3584      \n",
      "_________________________________________________________________\n",
      "max_pooling2d_4 (MaxPooling2 (None, 31, 31, 128)       0         \n",
      "_________________________________________________________________\n",
      "conv2d_5 (Conv2D)            (None, 29, 29, 64)        73792     \n",
      "_________________________________________________________________\n",
      "max_pooling2d_5 (MaxPooling2 (None, 14, 14, 64)        0         \n",
      "_________________________________________________________________\n",
      "conv2d_6 (Conv2D)            (None, 12, 12, 64)        36928     \n",
      "_________________________________________________________________\n",
      "max_pooling2d_6 (MaxPooling2 (None, 6, 6, 64)          0         \n",
      "_________________________________________________________________\n",
      "flatten_2 (Flatten)          (None, 2304)              0         \n",
      "_________________________________________________________________\n",
      "dense_3 (Dense)              (None, 32)                73760     \n",
      "_________________________________________________________________\n",
      "dense_4 (Dense)              (None, 2)                 66        \n",
      "=================================================================\n",
      "Total params: 188,130\n",
      "Trainable params: 188,130\n",
      "Non-trainable params: 0\n",
      "_________________________________________________________________\n"
     ]
    }
   ],
   "source": [
    "# Create the model\n",
    "model = models.Sequential()\n",
    "# Add new layers\n",
    "model.add(Conv2D(128, kernel_size=(3,3), activation = 'relu', input_shape=(64,64,3)))\n",
    "model.add(MaxPooling2D(pool_size=(2,2)))\n",
    "model.add(Conv2D(64, kernel_size=(3,3), activation = 'relu'))\n",
    "model.add(MaxPooling2D(pool_size=(2,2)))\n",
    "model.add(Conv2D(64, kernel_size=(3,3), activation = 'relu'))\n",
    "model.add(MaxPooling2D(pool_size=(2,2)))\n",
    "model.add(layers.Flatten())\n",
    "model.add(layers.Dense(32, activation='relu'))\n",
    "model.add(layers.Dense(2, activation='softmax'))\n",
    "model.summary()"
   ]
  },
  {
   "cell_type": "markdown",
   "metadata": {},
   "source": [
    "### B2. Compile the model with SGD(Stochastic Gradient Descent) and train it with 10 epochs."
   ]
  },
  {
   "cell_type": "code",
   "execution_count": 14,
   "metadata": {
    "scrolled": false
   },
   "outputs": [
    {
     "name": "stdout",
     "output_type": "stream",
     "text": [
      "Epoch 1/2\n",
      "1839/1838 [==============================] - 668s 363ms/step - loss: 0.3237 - acc: 0.8436 - val_loss: 0.2162 - val_acc: 0.9348\n",
      "Epoch 2/2\n",
      "1839/1838 [==============================] - 589s 320ms/step - loss: 0.1334 - acc: 0.9580 - val_loss: 0.1928 - val_acc: 0.9371\n"
     ]
    }
   ],
   "source": [
    "sgd = SGD(lr=0.01,decay=1e-6, momentum=0.9, nesterov=True)\n",
    "# We are going to use accuracy metrics and cross entropy loss as performance parameters\n",
    "model.compile(sgd, loss='categorical_crossentropy', metrics=['acc'])\n",
    "# Train the model \n",
    "history = model.fit_generator(train_generator, \n",
    "      steps_per_epoch=train_generator.samples/train_generator.batch_size,\n",
    "      epochs=2,\n",
    "      validation_data=validation_generator,\n",
    "      validation_steps=validation_generator.samples/validation_generator.batch_size,\n",
    "      verbose=1)"
   ]
  },
  {
   "cell_type": "markdown",
   "metadata": {},
   "source": [
    "### B3. Saving the model\n"
   ]
  },
  {
   "cell_type": "code",
   "execution_count": 15,
   "metadata": {},
   "outputs": [],
   "source": [
    "model.save('cnn_classification.h5')"
   ]
  },
  {
   "cell_type": "markdown",
   "metadata": {},
   "source": [
    "### B4. Loading the Model"
   ]
  },
  {
   "cell_type": "code",
   "execution_count": 16,
   "metadata": {},
   "outputs": [
    {
     "name": "stdout",
     "output_type": "stream",
     "text": [
      "<keras.models.Sequential object at 0x000000CF990C9B70>\n"
     ]
    }
   ],
   "source": [
    "model = models.load_model('cnn_classification.h5')\n",
    "print(model)"
   ]
  },
  {
   "cell_type": "markdown",
   "metadata": {},
   "source": [
    "### B5. Saving weignts of model"
   ]
  },
  {
   "cell_type": "code",
   "execution_count": 18,
   "metadata": {},
   "outputs": [],
   "source": [
    "model.save_weights('cnn_classification.h5')"
   ]
  },
  {
   "cell_type": "markdown",
   "metadata": {},
   "source": [
    "### B6. Loading the Model weights"
   ]
  },
  {
   "cell_type": "code",
   "execution_count": 19,
   "metadata": {},
   "outputs": [],
   "source": [
    "model.load_weights('cnn_classification.h5')"
   ]
  },
  {
   "cell_type": "markdown",
   "metadata": {},
   "source": [
    "### C. Performance Measures\n",
    "\n",
    "**Now we are going to plot the accuracy and loss **"
   ]
  },
  {
   "cell_type": "code",
   "execution_count": 20,
   "metadata": {},
   "outputs": [
    {
     "name": "stdout",
     "output_type": "stream",
     "text": [
      "[0.8435757987682386, 0.9579537729435758]\n",
      "[0.9348072562358276, 0.9370748299319728]\n",
      "[0.3237130894664394, 0.1333807492283009]\n",
      "[0.21620921408362917, 0.19283403323165008]\n"
     ]
    }
   ],
   "source": [
    "train_acc = history.history['acc']\n",
    "val_acc = history.history['val_acc']\n",
    "train_loss = history.history['loss']\n",
    "val_loss = history.history['val_loss']\n",
    "print(train_acc)\n",
    "print(val_acc)\n",
    "print(train_loss)\n",
    "print(val_loss)"
   ]
  },
  {
   "cell_type": "code",
   "execution_count": 10,
   "metadata": {
    "scrolled": true
   },
   "outputs": [
    {
     "data": {
      "image/png": "[encoded data removed]",
      "text/plain": [
       "<Figure size 432x288 with 1 Axes>"
      ]
     },
     "metadata": {
      "needs_background": "light"
     },
     "output_type": "display_data"
    },
    {
     "data": {
      "text/plain": [
       "<Figure size 432x288 with 0 Axes>"
      ]
     },
     "metadata": {},
     "output_type": "display_data"
    },
    {
     "data": {
      "image/png": "[encoded data removed]",
      "text/plain": [
       "<Figure size 432x288 with 1 Axes>"
      ]
     },
     "metadata": {
      "needs_background": "light"
     },
     "output_type": "display_data"
    }
   ],
   "source": [
    "epochs = range(len(train_acc)) \n",
    "plt.plot(epochs, train_acc, 'b', label='Training Accuracy')\n",
    "plt.plot(epochs, val_acc, 'r', label='Validation Accuracy')\n",
    "plt.title('Training and Validation Accuracy')\n",
    "plt.legend()\n",
    "plt.figure()\n",
    "plt.show()\n",
    "\n",
    "plt.plot(epochs, train_loss, 'b', label='Training Loss')\n",
    "plt.plot(epochs, val_loss, 'r', label='Validation Loss')\n",
    "plt.title('Training and Validation Loss')\n",
    "plt.legend()\n",
    "plt.show()\n"
   ]
  },
  {
   "cell_type": "markdown",
   "metadata": {},
   "source": [
    "# Model Testing"
   ]
  },
  {
   "cell_type": "code",
   "execution_count": 21,
   "metadata": {},
   "outputs": [
    {
     "name": "stdout",
     "output_type": "stream",
     "text": [
      "14986/14986 [==============================] - 216s 14ms/step\n",
      "No of errors = 557/14986\n"
     ]
    }
   ],
   "source": [
    "# Get the filenames from the generator\n",
    "fnames = test_generator.filenames\n",
    " \n",
    "# Get the ground truth from generator\n",
    "ground_truth = test_generator.classes\n",
    " \n",
    "# Get the label to class mapping from the generator\n",
    "label2index = test_generator.class_indices\n",
    " \n",
    "# Getting the mapping from class index to class label\n",
    "idx2label = dict((v,k) for k,v in label2index.items())\n",
    " \n",
    "# Get the predictions from the model using the generator\n",
    "predictions = model.predict_generator(test_generator, steps=test_generator.samples/test_generator.batch_size,verbose=1)\n",
    "predicted_classes = np.argmax(predictions,axis=1)\n",
    "\n",
    " \n",
    "errors = np.where(predicted_classes != ground_truth)[0]\n",
    "print(\"No of errors = {}/{}\".format(len(errors),test_generator.samples))\n"
   ]
  },
  {
   "cell_type": "markdown",
   "metadata": {},
   "source": [
    "# Assignemnt\n",
    "**You have to load the weights of previous model and with the help of previous weights try to create a CNN model with one more convolution layers. You have to train only after the newly added convolution layers of the neural network. **\n",
    "\n",
    "Hint : Use model.load_weights('weights.h5', by_name=True)\n"
   ]
  },
  {
   "cell_type": "code",
   "execution_count": 47,
   "metadata": {},
   "outputs": [
    {
     "name": "stdout",
     "output_type": "stream",
     "text": [
      "_________________________________________________________________\n",
      "Layer (type)                 Output Shape              Param #   \n",
      "=================================================================\n",
      "conv2d_12 (Conv2D)           (None, 62, 62, 128)       3584      \n",
      "_________________________________________________________________\n",
      "max_pooling2d_10 (MaxPooling (None, 31, 31, 128)       0         \n",
      "_________________________________________________________________\n",
      "conv2d_13 (Conv2D)           (None, 29, 29, 64)        73792     \n",
      "_________________________________________________________________\n",
      "max_pooling2d_11 (MaxPooling (None, 14, 14, 64)        0         \n",
      "_________________________________________________________________\n",
      "conv2d_14 (Conv2D)           (None, 12, 12, 64)        36928     \n",
      "_________________________________________________________________\n",
      "max_pooling2d_12 (MaxPooling (None, 6, 6, 64)          0         \n",
      "_________________________________________________________________\n",
      "conv2d_15 (Conv2D)           (None, 4, 4, 32)          18464     \n",
      "_________________________________________________________________\n",
      "conv2d_16 (Conv2D)           (None, 2, 2, 32)          9248      \n",
      "_________________________________________________________________\n",
      "flatten_4 (Flatten)          (None, 128)               0         \n",
      "_________________________________________________________________\n",
      "dense_7 (Dense)              (None, 32)                4128      \n",
      "_________________________________________________________________\n",
      "dense_8 (Dense)              (None, 2)                 66        \n",
      "=================================================================\n",
      "Total params: 146,210\n",
      "Trainable params: 146,210\n",
      "Non-trainable params: 0\n",
      "_________________________________________________________________\n"
     ]
    }
   ],
   "source": [
    "new_model= models.Sequential()\n",
    "model.load_weights('cnn_classification.h5', by_name=True)\n",
    "new_model.add(Conv2D(128, kernel_size=(3,3), activation = 'relu', input_shape=(64,64,3)))\n",
    "new_model.add(MaxPooling2D(pool_size=(2,2)))\n",
    "new_model.add(Conv2D(64, kernel_size=(3,3), activation = 'relu'))\n",
    "new_model.add(MaxPooling2D(pool_size=(2,2)))\n",
    "new_model.add(Conv2D(64, kernel_size=(3,3), activation = 'relu'))\n",
    "new_model.add(MaxPooling2D(pool_size=(2,2)))\n",
    "new_model.add(Conv2D(32, kernel_size=(3,3), activation = 'relu'))\n",
    "new_model.add(Conv2D(32, kernel_size=(3,3), activation = 'relu'))\n",
    "new_model.add(layers.Flatten())\n",
    "new_model.add(layers.Dense(32, activation='relu'))\n",
    "new_model.add(layers.Dense(2, activation='softmax'))\n",
    "new_model.summary()"
   ]
  },
  {
   "cell_type": "markdown",
   "metadata": {},
   "source": [
    "### Training the model after 5rd layer\n"
   ]
  },
  {
   "cell_type": "code",
   "execution_count": 48,
   "metadata": {},
   "outputs": [
    {
     "name": "stdout",
     "output_type": "stream",
     "text": [
      "<keras.layers.convolutional.Conv2D object at 0x000000CF9A034EF0> False\n",
      "<keras.layers.pooling.MaxPooling2D object at 0x000000CF9A034E80> False\n",
      "<keras.layers.convolutional.Conv2D object at 0x000000CF9A035A90> False\n",
      "<keras.layers.pooling.MaxPooling2D object at 0x000000CF9A03B320> False\n",
      "<keras.layers.convolutional.Conv2D object at 0x000000CF9A0358D0> False\n",
      "<keras.layers.pooling.MaxPooling2D object at 0x000000CF9A064DA0> False\n",
      "<keras.layers.convolutional.Conv2D object at 0x000000CF9A084048> True\n",
      "<keras.layers.convolutional.Conv2D object at 0x000000CF9A09DB00> True\n",
      "<keras.layers.core.Flatten object at 0x000000CF9A0B4E10> True\n",
      "<keras.layers.core.Dense object at 0x000000CF9C15AAC8> True\n",
      "<keras.layers.core.Dense object at 0x000000CF9C175DD8> True\n",
      "_________________________________________________________________\n",
      "Layer (type)                 Output Shape              Param #   \n",
      "=================================================================\n",
      "conv2d_12 (Conv2D)           (None, 62, 62, 128)       3584      \n",
      "_________________________________________________________________\n",
      "max_pooling2d_10 (MaxPooling (None, 31, 31, 128)       0         \n",
      "_________________________________________________________________\n",
      "conv2d_13 (Conv2D)           (None, 29, 29, 64)        73792     \n",
      "_________________________________________________________________\n",
      "max_pooling2d_11 (MaxPooling (None, 14, 14, 64)        0         \n",
      "_________________________________________________________________\n",
      "conv2d_14 (Conv2D)           (None, 12, 12, 64)        36928     \n",
      "_________________________________________________________________\n",
      "max_pooling2d_12 (MaxPooling (None, 6, 6, 64)          0         \n",
      "_________________________________________________________________\n",
      "conv2d_15 (Conv2D)           (None, 4, 4, 32)          18464     \n",
      "_________________________________________________________________\n",
      "conv2d_16 (Conv2D)           (None, 2, 2, 32)          9248      \n",
      "_________________________________________________________________\n",
      "flatten_4 (Flatten)          (None, 128)               0         \n",
      "_________________________________________________________________\n",
      "dense_7 (Dense)              (None, 32)                4128      \n",
      "_________________________________________________________________\n",
      "dense_8 (Dense)              (None, 2)                 66        \n",
      "=================================================================\n",
      "Total params: 146,210\n",
      "Trainable params: 31,906\n",
      "Non-trainable params: 114,304\n",
      "_________________________________________________________________\n"
     ]
    }
   ],
   "source": [
    "for layer in new_model.layers[:6]:\n",
    "    layer.trainable = False\n",
    "\n",
    "for layer in new_model.layers:\n",
    "    print(layer, layer.trainable)\n",
    "new_model.summary()"
   ]
  },
  {
   "cell_type": "code",
   "execution_count": null,
   "metadata": {},
   "outputs": [],
   "source": [
    "# Here we are changing the learning rate from 0.001 to 0.01"
   ]
  },
  {
   "cell_type": "code",
   "execution_count": 49,
   "metadata": {},
   "outputs": [
    {
     "name": "stdout",
     "output_type": "stream",
     "text": [
      "Epoch 1/2\n",
      "1839/1838 [==============================] - 724s 394ms/step - loss: 0.6630 - acc: 0.5911 - val_loss: 0.7001 - val_acc: 0.5947\n",
      "Epoch 2/2\n",
      "1839/1838 [==============================] - 508s 276ms/step - loss: 0.5940 - acc: 0.6870 - val_loss: 0.7521 - val_acc: 0.5471\n"
     ]
    }
   ],
   "source": [
    "sgd = SGD(lr=0.01,decay=1e-6, momentum=0.9, nesterov=True)\n",
    "# We are going to use accuracy metrics and cross entropy loss as performance parameters\n",
    "new_model.compile(sgd, loss='categorical_crossentropy', metrics=['acc'])\n",
    "# Train the model \n",
    "new_history = new_model.fit_generator(train_generator, \n",
    "      steps_per_epoch=train_generator.samples/train_generator.batch_size,\n",
    "      epochs=2,\n",
    "      validation_data=validation_generator,\n",
    "      validation_steps=validation_generator.samples/validation_generator.batch_size,\n",
    "      verbose=1)"
   ]
  },
  {
   "cell_type": "markdown",
   "metadata": {},
   "source": [
    "### C. Performance Measures\n",
    "\n",
    "**Now we are going to plot the accuracy and loss **"
   ]
  },
  {
   "cell_type": "code",
   "execution_count": 50,
   "metadata": {},
   "outputs": [],
   "source": [
    "train_acc = new_history.history['acc']\n",
    "val_acc = new_history.history['val_acc']\n",
    "train_loss = new_history.history['loss']\n",
    "val_loss = new_history.history['val_loss']"
   ]
  },
  {
   "cell_type": "code",
   "execution_count": 51,
   "metadata": {
    "scrolled": true
   },
   "outputs": [
    {
     "data": {
      "image/png": "[encoded data removed]",
      "text/plain": [
       "<Figure size 432x288 with 1 Axes>"
      ]
     },
     "metadata": {
      "needs_background": "light"
     },
     "output_type": "display_data"
    },
    {
     "data": {
      "text/plain": [
       "<Figure size 432x288 with 0 Axes>"
      ]
     },
     "metadata": {},
     "output_type": "display_data"
    },
    {
     "data": {
      "image/png": "[encoded data removed]",
      "text/plain": [
       "<Figure size 432x288 with 1 Axes>"
      ]
     },
     "metadata": {
      "needs_background": "light"
     },
     "output_type": "display_data"
    }
   ],
   "source": [
    "epochs = range(len(train_acc)) \n",
    "plt.plot(epochs, train_acc, 'b', label='Training Accuracy')\n",
    "plt.plot(epochs, val_acc, 'r', label='Validation Accuracy')\n",
    "plt.title('Training and Validation Accuracy')\n",
    "plt.legend()\n",
    "plt.figure()\n",
    "plt.show()\n",
    "\n",
    "plt.plot(epochs, train_loss, 'b', label='Training Loss')\n",
    "plt.plot(epochs, val_loss, 'r', label='Validation Loss')\n",
    "plt.title('Training and Validation Loss')\n",
    "plt.legend()\n",
    "plt.show()\n"
   ]
  },
  {
   "cell_type": "markdown",
   "metadata": {},
   "source": [
    "# Model Testing"
   ]
  },
  {
   "cell_type": "code",
   "execution_count": 52,
   "metadata": {},
   "outputs": [
    {
     "name": "stdout",
     "output_type": "stream",
     "text": [
      "14986/14986 [==============================] - 186s 12ms/step\n",
      "No of errors = 557/14986\n"
     ]
    }
   ],
   "source": [
    "# Get the filenames from the generator\n",
    "fnames = test_generator.filenames\n",
    " \n",
    "# Get the ground truth from generator\n",
    "ground_truth = test_generator.classes\n",
    " \n",
    "# Get the label to class mapping from the generator\n",
    "label2index = test_generator.class_indices\n",
    " \n",
    "# Getting the mapping from class index to class label\n",
    "idx2label = dict((v,k) for k,v in label2index.items())\n",
    " \n",
    "# Get the predictions from the model using the generator\n",
    "predictions = model.predict_generator(test_generator, steps=test_generator.samples/test_generator.batch_size,verbose=1)\n",
    "predicted_classes = np.argmax(predictions,axis=1)\n",
    " \n",
    "errors = np.where(predicted_classes != ground_truth)[0]\n",
    "print(\"No of errors = {}/{}\".format(len(errors),test_generator.samples))\n"
   ]
  }
 ],
 "metadata": {
  "kernelspec": {
   "display_name": "Python 3",
   "language": "python",
   "name": "python3"
  },
  "language_info": {
   "codemirror_mode": {
    "name": "ipython",
    "version": 3
   },
   "file_extension": ".py",
   "mimetype": "text/x-python",
   "name": "python",
   "nbconvert_exporter": "python",
   "pygments_lexer": "ipython3",
   "version": "3.7.3"
  }
 },
 "nbformat": 4,
 "nbformat_minor": 2
}
